{
  "nbformat": 4,
  "nbformat_minor": 0,
  "metadata": {
    "colab": {
      "name": "main.py",
      "provenance": [],
      "collapsed_sections": []
    },
    "kernelspec": {
      "name": "python3",
      "display_name": "Python 3"
    },
    "language_info": {
      "name": "python"
    },
    "accelerator": "GPU"
  },
  "cells": [
    {
      "cell_type": "code",
      "execution_count": null,
      "metadata": {
        "colab": {
          "base_uri": "https://localhost:8080/"
        },
        "id": "IjeUCW2GC3H-",
        "outputId": "4e0ed249-e826-45c9-d959-84f1ee53baa5"
      },
      "outputs": [
        {
          "output_type": "stream",
          "name": "stdout",
          "text": [
            "Drive already mounted at /content/drive; to attempt to forcibly remount, call drive.mount(\"/content/drive\", force_remount=True).\n"
          ]
        }
      ],
      "source": [
        "from google.colab import drive\n",
        "drive.mount('/content/drive')"
      ]
    },
    {
      "cell_type": "code",
      "source": [
        ""
      ],
      "metadata": {
        "id": "S424XQCy_KO6"
      },
      "execution_count": null,
      "outputs": []
    },
    {
      "cell_type": "code",
      "source": [
        "\n",
        "\n",
        "import cv2\n",
        "import numpy as np\n",
        "import os\n",
        "import scipy.ndimage\n",
        "\n",
        "\n",
        "\n",
        "def getMeanArea(contours):\n",
        "    meanArea=0\n",
        "    for contour in contours:\n",
        "        meanArea+=cv2.contourArea(contour)\n",
        "    meanArea=(meanArea)/len(contours)\n",
        "    return meanArea\n",
        "    \n",
        "    \n",
        "def getRatioArea(contours):\n",
        "    meanArea=0\n",
        "    for contour in contours:\n",
        "        meanArea+=cv2.contourArea(contour)\n",
        "    cnsSorted = sorted(contours, key=lambda x:cv2.contourArea(x), reverse = True)\n",
        "    ratioArea = cv2.contourArea(cnsSorted[0])/meanArea\n",
        "    return ratioArea\n",
        "\n",
        "\n",
        "def purify(img):\n",
        "    img=cv2.copyMakeBorder(img,32,32,32,32,cv2.BORDER_CONSTANT)\n",
        "    #cv2.imshow('img',img)\n",
        "    #cv2.waitKey(0)\n",
        "    #img=cv2.bitwise_not(img)\n",
        "    #kernel=np.ones((3,3),np.uint8)\n",
        "    #cv2.dilate(img,kernel,iterations=5)\n",
        "    #cv2.erode(img,kernel,iterations=5)\n",
        "    #img=cv2.morphologyEx(img,cv2.MORPH_OPEN,kernel)\n",
        "    contours, hierarchy = cv2.findContours(img, cv2.RETR_EXTERNAL, cv2.CHAIN_APPROX_SIMPLE)\n",
        "    meanArea=getMeanArea(contours)\n",
        "    nlabels,labels,stats,centroids=cv2.connectedComponentsWithStats(img,None,None,None,8,cv2.CV_32S)\n",
        "    areas=stats[1:,cv2.CC_STAT_AREA]\n",
        "    result=np.zeros((labels.shape),np.uint8)\n",
        "    for i in range(nlabels-1):\n",
        "        if areas[i]>=0.1*meanArea:\n",
        "            result[labels==i+1]=255\n",
        "    high=max(result.shape[0],result.shape[1])\n",
        "    if high==result.shape[0]:\n",
        "        dif=(high-result.shape[1])//2\n",
        "        result=cv2.copyMakeBorder(result,0,0,dif,dif,cv2.BORDER_CONSTANT,value=0)\n",
        "    else:\n",
        "        dif=(high-result.shape[1])//2\n",
        "        result=cv2.copyMakeBorder(result,dif,dif,0,0,cv2.BORDER_CONSTANT,value=0)\n",
        "    #cv2.imshow('result',result)\n",
        "    #print(result.shape)\n",
        "    #cv2.waitKey(0)\n",
        "    #cv2.destroyAllWindows()\n",
        "    return cv2.resize(result,(28,28),interpolation=cv2.INTER_AREA)\n",
        "\n",
        "\n",
        "def extract_character(image, recursion = 0):\n",
        "    thresh = cv2.copyMakeBorder(image, 8, 8, 8, 8, cv2.BORDER_REPLICATE)\n",
        "    pad=5\n",
        "    thresh=cv2.GaussianBlur(thresh, (3,3), 0)\n",
        "    #thresh=cv2.medianBlur(image,3)\n",
        "    #thresh = cv2.adaptiveThreshold(thresh, 255, cv2.ADAPTIVE_THRESH_GAUSSIAN_C,cv2.THRESH_BINARY_INV, blockSize = 321, C = 28)\n",
        "    ret,thresh=cv2.threshold(thresh,0,255,cv2.THRESH_BINARY_INV+cv2.THRESH_OTSU)\n",
        "    #cv2.imshow('thresh2',thresh)\n",
        "    #cv2.waitKey(0)\n",
        "    #cv2.imshow('Thresh',thresh)\n",
        "    kernel1 = np.ones((3,3), np.uint8)\n",
        "    thresh = cv2.dilate(thresh, kernel1, iterations = 1)\n",
        "    #thresh = cv2.morphologyEx(thresh, cv2.MORPH_CLOSE, kernel3)\n",
        "    if(recursion<2):\n",
        "    \tthresh2 = cv2.erode(thresh, np.ones((2,2), np.uint8), iterations = 2)\n",
        "    \tthresh2 = scipy.ndimage.median_filter(thresh2, (5, 1)) # remove line noise\n",
        "    \tthresh2 = scipy.ndimage.median_filter(thresh2, (1, 5)) # weaken circle noise\n",
        "    \tthresh2 = scipy.ndimage.median_filter(thresh2, (5, 1)) # remove line noise\n",
        "    \tthresh2 = scipy.ndimage.median_filter(thresh2, (1, 5)) # weaken circle noise\n",
        "    \tcontours1, hierarchy = cv2.findContours(thresh2, cv2.RETR_EXTERNAL, cv2.CHAIN_APPROX_SIMPLE)\n",
        "    else:\n",
        "    \tcontours1, hierarchy = cv2.findContours(thresh, cv2.RETR_EXTERNAL, cv2.CHAIN_APPROX_SIMPLE)\n",
        "    coords=[]\n",
        "    count=0\n",
        "    ratioArea = getRatioArea(contours1)\n",
        "    #print(ratioArea)\n",
        "    if(ratioArea<0.3 or recursion>1):\n",
        "    \tkernel2 = np.ones((2,2), np.uint8)\n",
        "    elif(ratioArea>0.85 and recursion<1):\n",
        "    \tkernel2 = np.ones((5,5), np.uint8)\n",
        "    else:\n",
        "    \tkernel2 = np.ones((3,3), np.uint8)\n",
        "    if(ratioArea > 0.3 and recursion<2):\n",
        "    \tthresh = cv2.erode(thresh, kernel2, iterations = 2)\n",
        "    \tthresh = scipy.ndimage.median_filter(thresh, (5, 1)) # remove line noise\n",
        "    \tthresh = scipy.ndimage.median_filter(thresh, (1, 5)) # weaken circle noise\n",
        "    \tthresh = scipy.ndimage.median_filter(thresh, (5, 1)) # remove line noise\n",
        "    \tthresh = scipy.ndimage.median_filter(thresh, (1, 5)) # weaken circle noise\n",
        "    thresh = cv2.dilate(thresh, kernel1, iterations = 1)\n",
        "    #cv2.imshow('thresh',thresh)\n",
        "    #cv2.waitKey(0)\n",
        "    contours, hierarchy = cv2.findContours(thresh, cv2.RETR_EXTERNAL, cv2.CHAIN_APPROX_SIMPLE)\n",
        "    coords=[]\n",
        "    count=0\n",
        "    meanArea=getMeanArea(contours)\n",
        "    for contour in contours:\n",
        "        (x,y,w,h)=cv2.boundingRect(contour)\n",
        "        if cv2.contourArea(contour)>0.05*meanArea:\n",
        "            if w / h > 1.25:\n",
        "                #Split it in half into two letter regions\n",
        "                half_width = int(w / 2)\n",
        "                coords.append((x, y, half_width, h))\n",
        "                coords.append((x + half_width, y, half_width, h))\n",
        "                count=count+2\n",
        "            else:  \n",
        "                coords.append((x, y, w, h))\n",
        "                count=count+1\n",
        "    coords=sorted(coords,key=lambda x: x[0])\n",
        "    img_paths=[]\n",
        "    if(count >7 and recursion <3):\n",
        "    \timg_paths_array = extract_character(image, recursion + 1)\n",
        "    \treturn img_paths_array\n",
        "    else:\n",
        "    \tfor i in range(count):\n",
        "        \tresult=purify(thresh[coords[i][1]:coords[i][1]+coords[i][3],coords[i][0]:coords[i][0]+coords[i][2]])\n",
        "        \t#cv2.imshow('result',result)\n",
        "        \t#cv2.waitKey(0)\n",
        "        \tfilename='character'+str(i)+'.jpeg'\n",
        "        \tcv2.imwrite(filename,cv2.bitwise_not(result))\n",
        "        \timg_paths.append(filename)\n",
        "    \treturn np.array(img_paths)\n",
        "\n"
      ],
      "metadata": {
        "id": "lfJf4KJuC5Dl"
      },
      "execution_count": null,
      "outputs": []
    },
    {
      "cell_type": "code",
      "source": [
        "\n",
        "import cv2\n",
        "import os\n",
        "from tensorflow.keras.models import load_model\n",
        "import numpy as np\n",
        "\n",
        "model=load_model('/content/drive/MyDrive/mosiac/modelps_1.h5',compile=True)\n",
        "classes='0123456789ABCDEFGHIJKLMNOPQRSTUVWXYZabdefghnqrt'\n",
        "    \n",
        "def predict(image):\n",
        "    image=cv2.cvtColor(image,cv2.COLOR_BGR2GRAY)\n",
        "    img_paths = extract_character(image)\n",
        "    output=' '\n",
        "    for i in img_paths:\n",
        "        m=[]\n",
        "        img=cv2.imread(i,cv2.IMREAD_GRAYSCALE)\n",
        "        img = cv2.bitwise_not(img)\n",
        "        img=np.reshape(img,(28,28,1))/255\n",
        "        m.append(img)\n",
        "        m=np.array(m)\n",
        "        result=np.argmax(model.predict(m))\n",
        "        #print(result)\n",
        "        output+=classes[result]\n",
        "    return output\n",
        "        \n",
        "    \n",
        "def test():\n",
        "    #Enter filenames to be tested in image_paths after adding them to this folder\n",
        "    image_paths=['/content/drive/MyDrive/mosiac/IMG_20220329_095724 (1).jpg']\n",
        "    for i in image_paths:\n",
        "        image=cv2.imread(i)\n",
        "        captcha_decoded=predict(image)\n",
        "        print(captcha_decoded)\n",
        "\n",
        "if __name__=='__main__':\n",
        "    test()\n",
        "\n"
      ],
      "metadata": {
        "colab": {
          "base_uri": "https://localhost:8080/"
        },
        "id": "UQ4S0eY7DluC",
        "outputId": "37fcaa1c-435b-4065-e515-28c58675389d"
      },
      "execution_count": null,
      "outputs": [
        {
          "output_type": "stream",
          "name": "stdout",
          "text": [
            " OLHACDO\n"
          ]
        }
      ]
    },
    {
      "cell_type": "code",
      "source": [
        ""
      ],
      "metadata": {
        "id": "p9AJIc9BbMUx"
      },
      "execution_count": null,
      "outputs": []
    }
  ]
}